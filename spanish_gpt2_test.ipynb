{
 "cells": [
  {
   "cell_type": "markdown",
   "source": [
    "# Raw Spanish GPT2 generator\n",
    "Load the model"
   ],
   "metadata": {
    "collapsed": false
   }
  },
  {
   "cell_type": "code",
   "execution_count": 3,
   "metadata": {
    "collapsed": true
   },
   "outputs": [],
   "source": [
    "from transformers import AutoTokenizer, AutoModelForCausalLM\n",
    "\n",
    "tokenizer = AutoTokenizer.from_pretrained(\"DeepESP/gpt2-spanish\")\n",
    "model = AutoModelForCausalLM.from_pretrained(\"DeepESP/gpt2-spanish\",\n",
    "                                             pad_token_id=tokenizer.eos_token_id)"
   ]
  },
  {
   "cell_type": "markdown",
   "source": [
    "Example 1:"
   ],
   "metadata": {
    "collapsed": false
   }
  },
  {
   "cell_type": "code",
   "execution_count": 4,
   "outputs": [
    {
     "name": "stderr",
     "output_type": "stream",
     "text": [
      "2022-01-18 19:43:12.564500: W tensorflow/stream_executor/platform/default/dso_loader.cc:64] Could not load dynamic library 'libcudart.so.11.0'; dlerror: libcudart.so.11.0: cannot open shared object file: No such file or directory\n",
      "2022-01-18 19:43:12.564554: I tensorflow/stream_executor/cuda/cudart_stub.cc:29] Ignore above cudart dlerror if you do not have a GPU set up on your machine.\n"
     ]
    },
    {
     "data": {
      "text/plain": "'Un día, el mago despertó y vió por la ventana como un fantasma que deambulaba por el jardín. \\n\\nAl ver la luz de la luna, la habitación estaba vacía. Había una pequeña puerta en el suelo, con un bulto en cada mano. Al otro lado, una lámpara de aceite de teca brillaba en la pared. De hecho, era un hombre menudo, de piel blanca, sentado en una silla, en un banco. En su mano sostenía un bastón. El mago lo cogió'"
     },
     "execution_count": 4,
     "metadata": {},
     "output_type": "execute_result"
    }
   ],
   "source": [
    "test_text = \"Un día, el mago despertó y vió por la ventana como\"\n",
    "inputs = tokenizer.encode(test_text, return_tensors=\"pt\")\n",
    "outputs = model.generate(inputs, max_length=100, do_sample=True, top_k=0,\n",
    "                              temperature=0.7, no_repeat_ngram_size=2, top_p=0.9)\n",
    "tokenizer.decode(outputs[0], skip_special_tokens=True)"
   ],
   "metadata": {
    "collapsed": false,
    "pycharm": {
     "name": "#%%\n"
    }
   }
  },
  {
   "cell_type": "markdown",
   "source": [
    "Example 2:"
   ],
   "metadata": {
    "collapsed": false
   }
  },
  {
   "cell_type": "code",
   "execution_count": 8,
   "outputs": [
    {
     "data": {
      "text/plain": "'Al salir el sol, el corazón de Diana se aceleró al ver que el camino terminaba en un bosquecillo de sauces, a pocos pasos de donde se hallaba el perro, y que también se dirigían hacia la casa, en cuyo interior se oía un murmullo de voces. \\n\\n—Yo iré a ver al médico —dijo Diana—. ¡Vamos, ya hemos llegado! \\n'"
     },
     "execution_count": 8,
     "metadata": {},
     "output_type": "execute_result"
    }
   ],
   "source": [
    "test_text = \"Al salir el sol\"\n",
    "inputs = tokenizer.encode(test_text, return_tensors=\"pt\")\n",
    "outputs = model.generate(inputs, max_length=100, do_sample=True, top_k=0,\n",
    "                         temperature=0.7, no_repeat_ngram_size=2, top_p=0.9)\n",
    "tokenizer.decode(outputs[0], skip_special_tokens=True)"
   ],
   "metadata": {
    "collapsed": false,
    "pycharm": {
     "name": "#%%\n"
    }
   }
  }
 ],
 "metadata": {
  "kernelspec": {
   "display_name": "Python 3",
   "language": "python",
   "name": "python3"
  },
  "language_info": {
   "codemirror_mode": {
    "name": "ipython",
    "version": 2
   },
   "file_extension": ".py",
   "mimetype": "text/x-python",
   "name": "python",
   "nbconvert_exporter": "python",
   "pygments_lexer": "ipython2",
   "version": "2.7.6"
  }
 },
 "nbformat": 4,
 "nbformat_minor": 0
}